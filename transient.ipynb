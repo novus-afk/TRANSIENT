{
  "nbformat": 4,
  "nbformat_minor": 0,
  "metadata": {
    "colab": {
      "name": "transient.ipynb",
      "provenance": [],
      "collapsed_sections": [],
      "authorship_tag": "ABX9TyP4fuPM4EpPCfpP7IAxYaEF",
      "include_colab_link": true
    },
    "kernelspec": {
      "name": "python3",
      "display_name": "Python 3"
    },
    "language_info": {
      "name": "python"
    }
  },
  "cells": [
    {
      "cell_type": "markdown",
      "metadata": {
        "id": "view-in-github",
        "colab_type": "text"
      },
      "source": [
        "<a href=\"https://colab.research.google.com/github/novus-afk/TRANSIENT-1D-Unsteady-State-Diffusion-solver-python/blob/master/transient.ipynb\" target=\"_parent\"><img src=\"https://colab.research.google.com/assets/colab-badge.svg\" alt=\"Open In Colab\"/></a>"
      ]
    },
    {
      "cell_type": "code",
      "execution_count": null,
      "metadata": {
        "id": "3L0fp5Zp3ZuX"
      },
      "outputs": [],
      "source": [
        "'''      Copyright 2021 MOHAMMED YAHYA ANSARI\n",
        "\n",
        "   Licensed under the Apache License, Version 2.0 (the \"License\");\n",
        "   you may not use this file except in compliance with the License.\n",
        "   You may obtain a copy of the License at\n",
        "\n",
        "       http://www.apache.org/licenses/LICENSE-2.0\n",
        "\n",
        "   Unless required by applicable law or agreed to in writing, software\n",
        "   distributed under the License is distributed on an \"AS IS\" BASIS,\n",
        "   WITHOUT WARRANTIES OR CONDITIONS OF ANY KIND, either express or implied.\n",
        "   See the License for the specific language governing permissions and\n",
        "   limitations under the License.\n",
        "'''"
      ]
    },
    {
      "cell_type": "code",
      "source": [
        "# import the required libraries\n",
        "import pandas as pd"
      ],
      "metadata": {
        "id": "Vuz5JZgO3e2E"
      },
      "execution_count": null,
      "outputs": []
    },
    {
      "cell_type": "code",
      "source": [
        "# take user input\n",
        "print(\"\\n \\t\\t TRANSIENT Solver\\n\")\n",
        "print(\"\"\"\\n\\tTo learn more about Transient heat conduction read the Transient.pdf\n",
        "    \n",
        "    (The left boundary is insulated in this solver)\n",
        "    \"\"\")\n",
        "n = int(input(\"\\n\\tEnter the no. of grid points :   \"))\n",
        "\n",
        "l = float(input(\"\\n\\tEnter length of plate in m :   \"))\n",
        "\n",
        "tk = float(input(\"\\n\\tEnter thermal conductivity in W/mK or W/mC :   \"))\n",
        "\n",
        "rc = float(input(\"\\n\\tEnter \\N{GREEK SMALL LETTER RHO}C in J/m3K :   \"))\n",
        "\n",
        "ti = float(input(\"\\n\\tEnter initial temperature at T = 0 sec :   \"))\n",
        "\n",
        "te = float(input(\"\\n\\tEnter temperature at east side of plate :   \"))\n",
        "\n",
        "dt = float(input(\"\\n\\tEnter dt :   \"))\n",
        "\n",
        "step = int(input(\"\\n\\tEnter number of time step :   \"))"
      ],
      "metadata": {
        "id": "RrHkFZZ23kl6"
      },
      "execution_count": null,
      "outputs": []
    },
    {
      "cell_type": "code",
      "source": [
        "# create empty list\n",
        "D = [0]*n\n",
        "beta = [0]*n\n",
        "alpha = [0]*n\n",
        "c = [0]*n\n",
        "A = [0]*n\n",
        "C = [0]*n\n",
        "X = [0]*n\n",
        "\n",
        "temp = [0]*n\n",
        "tempold = [0]*n\n",
        "\n",
        "# create dataframe to store result in table\n",
        "df = pd.DataFrame(columns=[\"Node: 1\", \"Node: 2\",\n",
        "                  \"Node: 3\", \"Node: 4\", \"Node: 5\"])\n",
        "\n",
        "dx = l/n\n",
        "Z = (rc*dx)/dt\n",
        "z = tk/dx"
      ],
      "metadata": {
        "id": "ZTUHWUv73obb"
      },
      "execution_count": null,
      "outputs": []
    },
    {
      "cell_type": "code",
      "source": [
        "# create tdma function\n",
        "# Define TDMA function very specific to this numerical solver, for general tdma solver refer : https://github.com/novus-afk/TDMA-Solver\n",
        "def TDMA(n, beta, D, alpha, c):\n",
        "    beta[0] = 0\n",
        "    beta[n-1] = beta[1]\n",
        "    alpha[0] = alpha[1]\n",
        "    alpha[n-1] = 0\n",
        "    # copy common values\n",
        "    for i in range(1, n-1):\n",
        "        D[i] = D[1]\n",
        "        beta[i] = beta[1]\n",
        "        alpha[i] = alpha[1]\n",
        "    # solve forward substitution\n",
        "    for i in range(0, n):\n",
        "        A[i] = alpha[i]/(D[i] - beta[i]*A[i-1])\n",
        "        C[i] = (beta[i]*C[i-1] + c[i])/(D[i] - beta[i]*A[i-1])\n",
        "\n",
        "    X[n-1] = C[n-1]\n",
        "    # solve backward substitution\n",
        "    j = n-2\n",
        "    while j >= 0:\n",
        "        X[j] = A[j] * X[j+1] + C[j]\n",
        "        j = j-1\n",
        "\n",
        "    return X"
      ],
      "metadata": {
        "id": "k3cUoyzN3sfC"
      },
      "execution_count": null,
      "outputs": []
    },
    {
      "cell_type": "code",
      "source": [
        "# create explicit solver function\n",
        "def EXPLICIT(temp, tempold):\n",
        "    for o in range(0, n):\n",
        "        temp[o] = ti\n",
        "        tempold[o] = ti\n",
        "\n",
        "    for i in range(0, step+1):\n",
        "        # add data to dataframe last row\n",
        "        df.loc[len(df.index)] = tempold \n",
        "\n",
        "        temp[0] = (((Z-z)*tempold[0])+(z*tempold[1]))/Z\n",
        "\n",
        "        for j in range(1, n-1):\n",
        "            temp[j] = (((Z-(2*z))*tempold[j]) +\n",
        "                       (z*tempold[j-1])+(z*tempold[j+1]))/Z\n",
        "\n",
        "        temp[n-1] = (((Z-(3*z))*tempold[n-1]) + (z*tempold[n-2]) + (2*te*z))/Z\n",
        "        # copy current temp value to old for next timestep\n",
        "        tempold = temp.copy()"
      ],
      "metadata": {
        "id": "vyp33gfh3yxa"
      },
      "execution_count": null,
      "outputs": []
    },
    {
      "cell_type": "code",
      "source": [
        "# create implicit solver function\n",
        "def IMPLICIT(temp, tempold):\n",
        "    # initialize data for tdma function\n",
        "    D[0] = Z+z\n",
        "    D[1] = Z+z+z\n",
        "    D[n-1] = Z+z+z+z\n",
        "    beta[1] = z\n",
        "    alpha[1] = z\n",
        "    # copy initial temperature\n",
        "    for o in range(0, n):\n",
        "        temp[o] = ti\n",
        "    tempold = temp.copy()\n",
        "\n",
        "    for p in range(0, step+1):\n",
        "        # add new temp values to the pandas dataframe(add new temperature row, similar to printing values at each time step)\n",
        "        df.loc[len(df.index)] = temp\n",
        "\n",
        "        for i in range(0, n):\n",
        "            c[i] = Z*tempold[i]\n",
        "        temp = TDMA(n, beta, D, alpha, c)\n",
        "        tempold = temp.copy()"
      ],
      "metadata": {
        "id": "W_4gCEI137Ra"
      },
      "execution_count": null,
      "outputs": []
    },
    {
      "cell_type": "code",
      "source": [
        "# create crank nicholson solver function\n",
        "def CrankN(temp, tempold):\n",
        "    # initialize data for tdma function\n",
        "    D[0] = Z+(z/2)\n",
        "    D[1] = Z+z\n",
        "    D[n-1] = Z+z+z/2\n",
        "    beta[1] = z/2\n",
        "    alpha[1] = z/2\n",
        "\n",
        "    # copy initial temperature\n",
        "    for o in range(0, n):\n",
        "        temp[o] = ti\n",
        "    tempold = temp.copy()\n",
        "\n",
        "    for p in range(0, step+1):\n",
        "        # add result to DataFrame\n",
        "        df.loc[len(df.index)] = temp\n",
        "\n",
        "        # set constant values\n",
        "        c[0] = (Z * tempold[0]) + (z * 0.5 * (tempold[1] - tempold[0]))\n",
        "        c[n-1] = ((Z-z-z/2)*tempold[n-1]) + (z * tempold[n-2]) + (2*z * te)\n",
        "        for i in range(1, n-1):\n",
        "            c[i] = ((Z-z)*tempold[i]) + (z * 0.5 * (tempold[i-1]+tempold[i+1]))\n",
        "\n",
        "        temp = TDMA(n, beta, D, alpha, c)\n",
        "        tempold = temp.copy()"
      ],
      "metadata": {
        "id": "GyMYYqWB4Bwx"
      },
      "execution_count": null,
      "outputs": []
    },
    {
      "cell_type": "code",
      "source": [
        "# Switch case for type of numerical\n",
        "choice = \"\"\n",
        "while choice != \"q\":\n",
        "    print(\"\"\"\\n\\t\\tSelect a Scheme :\n",
        "        \n",
        "        [ 1 ] Explicit Scheme\n",
        "\n",
        "        [ 2 ] Implicit Scheme\n",
        "\n",
        "        [ 3 ] Crank-Nicolson Scheme \n",
        "\n",
        "        [ q ] Exit\\n\"\"\")\n",
        "    choice = input(\"\\n\\tEnter Choice :\\t\")\n",
        "\n",
        "    if choice == \"1\":\n",
        "        print(\"\\n\\tExplicit Scheme\\n\")\n",
        "        EXPLICIT(temp, tempold)\n",
        "        break\n",
        "\n",
        "    elif choice == \"2\":\n",
        "        print(\"\\n\\tImplicit Scheme\\n\")\n",
        "        IMPLICIT(temp, tempold)\n",
        "        break\n",
        "\n",
        "    # solve for crank nicolson scheme\n",
        "    elif choice == \"3\":\n",
        "        print(\"\\n\\tCrank Nicolson Scheme\\n\")\n",
        "        CrankN(temp, tempold)\n",
        "        break\n",
        "\n",
        "    elif choice == \"q\":\n",
        "        exit()\n",
        "\n",
        "    else:\n",
        "        print(\"\\n\\n\\tInvalid choice, Try again!\\n\")"
      ],
      "metadata": {
        "id": "dVyNQNz04EHi"
      },
      "execution_count": null,
      "outputs": []
    },
    {
      "cell_type": "code",
      "source": [
        "# add time column\n",
        "Ts = []\n",
        "for i in range(0, step+1):\n",
        "    Ts.append(i*dt)\n",
        "df.insert(0, \"Time(sec)\", Ts)\n",
        "\n",
        "# print DataFrame\n",
        "print(df)"
      ],
      "metadata": {
        "id": "O0ne3NeA4JYZ"
      },
      "execution_count": null,
      "outputs": []
    },
    {
      "cell_type": "code",
      "source": [
        "# save choice\n",
        "while choice != \"q\":\n",
        "    print('''\\n\\t[ y ] Save result to excel file.\n",
        "    \n",
        "        [ q ] Exit without saving result\n",
        "        ''')\n",
        "    choice = input(\"\\nEnter your choice :\\t\")\n",
        "    if choice == \"y\":\n",
        "        # add time step column at the start of the DataFrame\n",
        "        df.insert(0, 'Time Step.', range(0, len(df)))\n",
        "        df.to_excel(\"output//Transient.xlsx\", sheet_name='Output',\n",
        "                    index=False)  # .to_excel to export excel file\n",
        "        print(\n",
        "            \"\\n\\n*************** Export complete! Check output folder. ***************\\n\\n\")\n",
        "        break\n",
        "    elif choice == \"q\":\n",
        "        print(\"\\n***** Result not saved *****\")\n",
        "        break\n",
        "    else:\n",
        "        print(\"\\n Invalid Choice, Try again !\")\n",
        "\n",
        "\n",
        "input(\"\\nPress Enter to exit\")"
      ],
      "metadata": {
        "id": "u4HZdmSS4Q6T"
      },
      "execution_count": null,
      "outputs": []
    }
  ]
}