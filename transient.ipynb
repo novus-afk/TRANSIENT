{
  "nbformat": 4,
  "nbformat_minor": 0,
  "metadata": {
    "colab": {
      "provenance": [],
      "collapsed_sections": [],
      "authorship_tag": "ABX9TyPgq+4N4kuC6alJODrYWHUJ",
      "include_colab_link": true
    },
    "kernelspec": {
      "name": "python3",
      "display_name": "Python 3"
    },
    "language_info": {
      "name": "python"
    }
  },
  "cells": [
    {
      "cell_type": "markdown",
      "metadata": {
        "id": "view-in-github",
        "colab_type": "text"
      },
      "source": [
        "<a href=\"https://colab.research.google.com/github/novus-afk/TRANSIENT-1D-Unsteady-State-Diffusion-solver-python/blob/master/transient.ipynb\" target=\"_parent\"><img src=\"https://colab.research.google.com/assets/colab-badge.svg\" alt=\"Open In Colab\"/></a>"
      ]
    },
    {
      "cell_type": "code",
      "execution_count": null,
      "metadata": {
        "id": "3L0fp5Zp3ZuX"
      },
      "outputs": [],
      "source": [
        "'''      Copyright 2021 MOHAMMED YAHYA ANSARI\n",
        "\n",
        "   Licensed under the Apache License, Version 2.0 (the \"License\");\n",
        "   you may not use this file except in compliance with the License.\n",
        "   You may obtain a copy of the License at\n",
        "\n",
        "       http://www.apache.org/licenses/LICENSE-2.0\n",
        "\n",
        "   Unless required by applicable law or agreed to in writing, software\n",
        "   distributed under the License is distributed on an \"AS IS\" BASIS,\n",
        "   WITHOUT WARRANTIES OR CONDITIONS OF ANY KIND, either express or implied.\n",
        "   See the License for the specific language governing permissions and\n",
        "   limitations under the License.\n",
        "'''"
      ]
    },
    {
      "cell_type": "code",
      "source": [
        "# import the required libraries\n",
        "import pandas as pd"
      ],
      "metadata": {
        "id": "Vuz5JZgO3e2E"
      },
      "execution_count": 1,
      "outputs": []
    },
    {
      "cell_type": "code",
      "source": [
        "# take user input\n",
        "print(\"\\n \\t\\t TRANSIENT Solver\\n\")\n",
        "print(\"\"\"\\n\\tTo learn more about Transient heat conduction read the Transient.pdf\n",
        "    \n",
        "    (The left boundary is insulated in this solver)\n",
        "    \"\"\")\n",
        "n = int(input(\"\\n\\tEnter the no. of grid points :   \"))\n",
        "\n",
        "l = float(input(\"\\n\\tEnter length of plate in m :   \"))\n",
        "\n",
        "tk = float(input(\"\\n\\tEnter thermal conductivity in W/mK or W/mC :   \"))\n",
        "\n",
        "rc = float(input(\"\\n\\tEnter \\N{GREEK SMALL LETTER RHO}C in J/m3K :   \"))\n",
        "\n",
        "ti = float(input(\"\\n\\tEnter initial temperature at T = 0 sec :   \"))\n",
        "\n",
        "te = float(input(\"\\n\\tEnter temperature at east side of plate :   \"))\n",
        "\n",
        "dt = float(input(\"\\n\\tEnter dt :   \"))\n",
        "\n",
        "step = int(input(\"\\n\\tEnter number of time step :   \"))"
      ],
      "metadata": {
        "id": "RrHkFZZ23kl6",
        "colab": {
          "base_uri": "https://localhost:8080/"
        },
        "outputId": "369a4ee9-625b-46ef-d117-32b6144509fe"
      },
      "execution_count": 3,
      "outputs": [
        {
          "name": "stdout",
          "output_type": "stream",
          "text": [
            "\n",
            " \t\t TRANSIENT Solver\n",
            "\n",
            "\n",
            "\tTo learn more about Transient heat conduction read the Transient.pdf\n",
            "    \n",
            "    (The left boundary is insulated in this solver)\n",
            "    \n",
            "\n",
            "\tEnter the no. of grid points :   5\n",
            "\n",
            "\tEnter length of plate in m :   0.02\n",
            "\n",
            "\tEnter thermal conductivity in W/mK or W/mC :   10\n",
            "\n",
            "\tEnter ρC in J/m3K :   10000000\n",
            "\n",
            "\tEnter initial temperature at T = 0 sec :   200\n",
            "\n",
            "\tEnter temperature at east side of plate :   0\n",
            "\n",
            "\tEnter dt :   2\n",
            "\n",
            "\tEnter number of time step :   10\n"
          ]
        }
      ]
    },
    {
      "cell_type": "code",
      "source": [
        "# create empty list\n",
        "D = [0]*n\n",
        "beta = [0]*n\n",
        "alpha = [0]*n\n",
        "c = [0]*n\n",
        "A = [0]*n\n",
        "C = [0]*n\n",
        "X = [0]*n\n",
        "\n",
        "temp = [0]*n\n",
        "tempold = [0]*n\n",
        "\n",
        "# create dataframe to store result in table\n",
        "df = pd.DataFrame(columns=[\"Node: 1\", \"Node: 2\",\n",
        "                  \"Node: 3\", \"Node: 4\", \"Node: 5\"])\n",
        "\n",
        "dx = l/n\n",
        "Z = (rc*dx)/dt\n",
        "z = tk/dx"
      ],
      "metadata": {
        "id": "ZTUHWUv73obb"
      },
      "execution_count": 4,
      "outputs": []
    },
    {
      "cell_type": "code",
      "source": [
        "# create tdma function\n",
        "# Define TDMA function very specific to this numerical solver, for general tdma solver refer : https://github.com/novus-afk/TDMA-Solver\n",
        "def TDMA(n, beta, D, alpha, c):\n",
        "    beta[0] = 0\n",
        "    beta[n-1] = beta[1]\n",
        "    alpha[0] = alpha[1]\n",
        "    alpha[n-1] = 0\n",
        "    # copy common values\n",
        "    for i in range(1, n-1):\n",
        "        D[i] = D[1]\n",
        "        beta[i] = beta[1]\n",
        "        alpha[i] = alpha[1]\n",
        "    # solve forward substitution\n",
        "    for i in range(0, n):\n",
        "        A[i] = alpha[i]/(D[i] - beta[i]*A[i-1])\n",
        "        C[i] = (beta[i]*C[i-1] + c[i])/(D[i] - beta[i]*A[i-1])\n",
        "\n",
        "    X[n-1] = C[n-1]\n",
        "    # solve backward substitution\n",
        "    j = n-2\n",
        "    while j >= 0:\n",
        "        X[j] = A[j] * X[j+1] + C[j]\n",
        "        j = j-1\n",
        "\n",
        "    return X"
      ],
      "metadata": {
        "id": "k3cUoyzN3sfC"
      },
      "execution_count": 5,
      "outputs": []
    },
    {
      "cell_type": "code",
      "source": [
        "# create explicit solver function\n",
        "def EXPLICIT(temp, tempold):\n",
        "    for o in range(0, n):\n",
        "        temp[o] = ti\n",
        "        tempold[o] = ti\n",
        "\n",
        "    for i in range(0, step+1):\n",
        "        # add data to dataframe last row\n",
        "        df.loc[len(df.index)] = tempold \n",
        "\n",
        "        temp[0] = (((Z-z)*tempold[0])+(z*tempold[1]))/Z\n",
        "\n",
        "        for j in range(1, n-1):\n",
        "            temp[j] = (((Z-(2*z))*tempold[j]) +\n",
        "                       (z*tempold[j-1])+(z*tempold[j+1]))/Z\n",
        "\n",
        "        temp[n-1] = (((Z-(3*z))*tempold[n-1]) + (z*tempold[n-2]) + (2*te*z))/Z\n",
        "        # copy current temp value to old for next timestep\n",
        "        tempold = temp.copy()"
      ],
      "metadata": {
        "id": "vyp33gfh3yxa"
      },
      "execution_count": 6,
      "outputs": []
    },
    {
      "cell_type": "code",
      "source": [
        "# create implicit solver function\n",
        "def IMPLICIT(temp, tempold):\n",
        "    # initialize data for tdma function\n",
        "    D[0] = Z+z\n",
        "    D[1] = Z+z+z\n",
        "    D[n-1] = Z+z+z+z\n",
        "    beta[1] = z\n",
        "    alpha[1] = z\n",
        "    # copy initial temperature\n",
        "    for o in range(0, n):\n",
        "        temp[o] = ti\n",
        "    tempold = temp.copy()\n",
        "\n",
        "    for p in range(0, step+1):\n",
        "        # add new temp values to the pandas dataframe(add new temperature row, similar to printing values at each time step)\n",
        "        df.loc[len(df.index)] = temp\n",
        "\n",
        "        for i in range(0, n):\n",
        "            c[i] = Z*tempold[i]\n",
        "        temp = TDMA(n, beta, D, alpha, c)\n",
        "        tempold = temp.copy()"
      ],
      "metadata": {
        "id": "W_4gCEI137Ra"
      },
      "execution_count": 7,
      "outputs": []
    },
    {
      "cell_type": "code",
      "source": [
        "# create crank nicholson solver function\n",
        "def CrankN(temp, tempold):\n",
        "    # initialize data for tdma function\n",
        "    D[0] = Z+(z/2)\n",
        "    D[1] = Z+z\n",
        "    D[n-1] = Z+z+z/2\n",
        "    beta[1] = z/2\n",
        "    alpha[1] = z/2\n",
        "\n",
        "    # copy initial temperature\n",
        "    for o in range(0, n):\n",
        "        temp[o] = ti\n",
        "    tempold = temp.copy()\n",
        "\n",
        "    for p in range(0, step+1):\n",
        "        # add result to DataFrame\n",
        "        df.loc[len(df.index)] = temp\n",
        "\n",
        "        # set constant values\n",
        "        c[0] = (Z * tempold[0]) + (z * 0.5 * (tempold[1] - tempold[0]))\n",
        "        c[n-1] = ((Z-z-z/2)*tempold[n-1]) + (z * tempold[n-2]) + (2*z * te)\n",
        "        for i in range(1, n-1):\n",
        "            c[i] = ((Z-z)*tempold[i]) + (z * 0.5 * (tempold[i-1]+tempold[i+1]))\n",
        "\n",
        "        temp = TDMA(n, beta, D, alpha, c)\n",
        "        tempold = temp.copy()"
      ],
      "metadata": {
        "id": "GyMYYqWB4Bwx"
      },
      "execution_count": 8,
      "outputs": []
    },
    {
      "cell_type": "code",
      "source": [
        "# Switch case for type of numerical\n",
        "choice = \"\"\n",
        "while choice != \"q\":\n",
        "    print(\"\"\"\\n\\t\\tSelect a Scheme :\n",
        "        \n",
        "        [ 1 ] Explicit Scheme\n",
        "\n",
        "        [ 2 ] Implicit Scheme\n",
        "\n",
        "        [ 3 ] Crank-Nicolson Scheme \n",
        "\n",
        "        [ q ] Exit\\n\"\"\")\n",
        "    choice = input(\"\\n\\tEnter Choice :\\t\")\n",
        "\n",
        "    if choice == \"1\":\n",
        "        print(\"\\n\\tExplicit Scheme\\n\")\n",
        "        EXPLICIT(temp, tempold)\n",
        "        break\n",
        "\n",
        "    elif choice == \"2\":\n",
        "        print(\"\\n\\tImplicit Scheme\\n\")\n",
        "        IMPLICIT(temp, tempold)\n",
        "        break\n",
        "\n",
        "    # solve for crank nicolson scheme\n",
        "    elif choice == \"3\":\n",
        "        print(\"\\n\\tCrank Nicolson Scheme\\n\")\n",
        "        CrankN(temp, tempold)\n",
        "        break\n",
        "\n",
        "    elif choice == \"q\":\n",
        "        exit()\n",
        "\n",
        "    else:\n",
        "        print(\"\\n\\n\\tInvalid choice, Try again!\\n\")"
      ],
      "metadata": {
        "id": "dVyNQNz04EHi",
        "colab": {
          "base_uri": "https://localhost:8080/"
        },
        "outputId": "2d7eead1-56d4-4826-cf06-aca61fac3ec7"
      },
      "execution_count": 9,
      "outputs": [
        {
          "output_type": "stream",
          "name": "stdout",
          "text": [
            "\n",
            "\t\tSelect a Scheme :\n",
            "        \n",
            "        [ 1 ] Explicit Scheme\n",
            "\n",
            "        [ 2 ] Implicit Scheme\n",
            "\n",
            "        [ 3 ] Crank-Nicolson Scheme \n",
            "\n",
            "        [ q ] Exit\n",
            "\n",
            "\n",
            "\tEnter Choice :\t1\n",
            "\n",
            "\tExplicit Scheme\n",
            "\n"
          ]
        }
      ]
    },
    {
      "cell_type": "code",
      "source": [
        "# add time column\n",
        "Ts = []\n",
        "for i in range(0, step+1):\n",
        "    Ts.append(i*dt)\n",
        "df.insert(0, \"Time(sec)\", Ts)\n",
        "\n",
        "# print DataFrame\n",
        "print(df)"
      ],
      "metadata": {
        "id": "O0ne3NeA4JYZ",
        "colab": {
          "base_uri": "https://localhost:8080/"
        },
        "outputId": "ede2772b-f6c1-4408-e09d-969376a6ad51"
      },
      "execution_count": 10,
      "outputs": [
        {
          "output_type": "stream",
          "name": "stdout",
          "text": [
            "    Time(sec)     Node: 1     Node: 2     Node: 3     Node: 4     Node: 5\n",
            "0         0.0  200.000000  200.000000  200.000000  200.000000  200.000000\n",
            "1         2.0  200.000000  200.000000  200.000000  200.000000  150.000000\n",
            "2         4.0  200.000000  200.000000  200.000000  193.750000  118.750000\n",
            "3         6.0  200.000000  200.000000  199.218750  185.156250   98.437500\n",
            "4         8.0  200.000000  199.902344  197.558594  176.074219   84.667969\n",
            "5        10.0  199.987793  199.621582  195.166016  167.333984   74.926758\n",
            "6        12.0  199.942017  199.110413  192.243958  159.262085   67.745972\n",
            "7        14.0  199.838066  198.356056  188.979530  151.945305   62.248993\n",
            "8        16.0  199.652815  197.369242  185.522318  145.362544   57.898784\n",
            "9        18.0  199.367368  196.173823  181.983212  139.449546   54.357058\n",
            "10       20.0  198.968175  194.799190  178.440330  134.129693   51.404354\n"
          ]
        }
      ]
    },
    {
      "cell_type": "code",
      "source": [
        "# # save choice\n",
        "# while choice != \"q\":\n",
        "#     print('''\\n\\t[ y ] Save result to excel file.\n",
        "    \n",
        "#         [ q ] Exit without saving result\n",
        "#         ''')\n",
        "#     choice = input(\"\\nEnter your choice :\\t\")\n",
        "#     if choice == \"y\":\n",
        "#         # add time step column at the start of the DataFrame\n",
        "#         df.insert(0, 'Time Step.', range(0, len(df)))\n",
        "#         df.to_excel(\"output//Transient.xlsx\", sheet_name='Output',\n",
        "#                     index=False)  # .to_excel to export excel file\n",
        "#         print(\n",
        "#             \"\\n\\n*************** Export complete! Check output folder. ***************\\n\\n\")\n",
        "#         break\n",
        "#     elif choice == \"q\":\n",
        "#         print(\"\\n***** Result not saved *****\")\n",
        "#         break\n",
        "#     else:\n",
        "#         print(\"\\n Invalid Choice, Try again !\")\n",
        "\n",
        "\n",
        "# input(\"\\nPress Enter to exit\")"
      ],
      "metadata": {
        "id": "u4HZdmSS4Q6T"
      },
      "execution_count": null,
      "outputs": []
    }
  ]
}